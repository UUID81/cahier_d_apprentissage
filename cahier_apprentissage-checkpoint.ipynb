{
 "cells": [
  {
   "cell_type": "markdown",
   "metadata": {},
   "source": [
    "# CAHIER D'APPRENTISSAGE JUPYTER NOTEBOOK"
   ]
  },
  {
   "cell_type": "markdown",
   "metadata": {},
   "source": [
    "### SOMMAIRE"
   ]
  },
  {
   "cell_type": "markdown",
   "metadata": {},
   "source": [
    "1. Méthodologie\n",
    "    1. [Merise](#MERISE)\n",
    "    2. UML\n",
    "    \n",
    "2. Environnements de travail\n",
    "    1. Environnements virtuels\n",
    "       1. [CONDA](../YOUSSEF_cours/SupportFormation_Conda_Part_1.pdf)\n",
    "       2. venv\n",
    "    2. [Github]()\n",
    "\n",
    "3. MERISE Diagrammes de flux<a id = 'MERISE'></a>\n",
    "    1. [Atelier BDD](../STEPH_cours/atelier_bdd.pdf)\n",
    "    2. [MCD](../STEPH_veilles/30_Vieilles/30_Vieille/220106_Modelisation_BDD_MERISE/MCD_dictionnaire_de_donnees_et_Dependances_fonctionnelles.pdf)\n",
    "    3. [Le MCT](../STEPH_veilles/30_Vieilles/30_Vieille/220106_Modelisation_BDD_MERISE/merise_mct_.pdf)\n",
    "    4. [Relations](..\\STEPH_veilles\\30_Vieilles\\30_Vieille\\220106_Modelisation_BDD_MERISE/Veille_Merise_-_MLD_les_relations_et_les_regles_de_conversion.pdf)\n",
    "    5. [exemple exercice](../STEPH_veilles/30_Vieilles/30_Vieille/220106_Modelisation_BDD_MERISE/exemple_merise.pdf)\n",
    "\n",
    "4. Les langages\n",
    "    1. Python\n",
    "        1. [Initiation](../STEPH_cours/initiation_python.ipynb)\n",
    "        2. [COURS](../YOUSSEF_cours/Docs_Python/cours/)\n",
    "    2. HTML\n",
    "    3. CSS\n",
    "    4. SQL\n",
    "        1. [Les bases de données](..\\STEPH_veilles\\30_Vieilles\\30_Vieille\\211203_BDD_SGBD\\atelier_bdd.pdf)\n",
    "        2. [Les bases de données](..\\STEPH_veilles\\30_Vieilles\\30_Vieille\\211203_BDD_SGBD\\Veille_BDD_Postgresql.pdf)\n",
    "        3. [Les requêtes](https://fr.wikibooks.org/wiki/Les_bases_de_donn%C3%A9es/Les_requ%C3%AAtes_en_SQL)\n",
    "        4. [Les vues](..\\STEPH_veilles\\30_Vieilles\\30_Vieille\\220127_MySQL\\Veilles_MySQL_Les_Vues.pdf)\n",
    "        5. [Les triggers](..\\STEPH_veilles\\30_Vieilles\\30_Vieille\\220127_MySQL\\Les_triggers_SQL.pdf)\n",
    "        6. [Les procédures préparées](..\\STEPH_veilles\\30_Vieilles\\30_Vieille\\220127_MySQL\\procedures_stockees.pdf)\n",
    "        7. [Les index](..\\STEPH_veilles\\30_Vieilles\\30_Vieille\\220127_MySQL\\veille_Index_SQL.pdf)\n",
    "5. Analyses et visualisations de données\n",
    "    1. Numpy\n",
    "        1. [Officiel](https://numpy.org/)\n",
    "        2. [Documentation](https://numpy.org/doc/stable/reference/)\n",
    "    2. [Pandas](../YOUSSEF_TP/TP_PANDAS/)\n",
    "    3. [Matplotlib](https://he-arc.github.io/livre-python/matplotlib/index.html)\n",
    "    4. ScikitLearn\n",
    "        1. [TUTO](..\\YOUSSEF_TP\\Tuto_Scikit_Learn.pdf)\n",
    "        2. [Veille](../STEPH_veilles/30_Vieilles/30_Vieille/220119_Sklearn/Copie_de_scikit-learn-Veille.ipynb)\n",
    "    5. Scypy\n",
    "        1. [Doc officiel](https://scipy.github.io/devdocs/dev/index.html#scipy-development)\n",
    "    6. Keras\n",
    "      1.[Débuter](https://www.actuia.com/keras/)\n",
    "      2.[Keras](https://keras.io/guides/)\n",
    "         \n",
    "    \n",
    "6. Ressources éducatives gratuites!\n",
    "    1. [Machine Learnia](https://www.youtube.com/c/MachineLearnia)\n",
    "    2. [DataScience RoadMap](https://www.youtube.com/channel/UCAEgip72UcvYwjcqzcJ1I2g)\n",
    "    3. [Programmation Python](https://www.youtube.com/c/Gravenilvectuto/playlists)\n",
    "    4. [DataAnalyses](https://www.youtube.com/channel/UCVso5UVvQeGAuwbksmA95iA)\n",
    "    \n",
    "7.Réseaux neuronaux\n",
    "        1.[CNN](https://datascientest.com/convolutional-neural-network)\n",
    "        2.[RNN]()\n",
    "    "
   ]
  },
  {
   "cell_type": "code",
   "execution_count": null,
   "metadata": {},
   "outputs": [],
   "source": []
  }
 ],
 "metadata": {
  "kernelspec": {
   "display_name": "Python 3",
   "language": "python",
   "name": "python3"
  },
  "language_info": {
   "codemirror_mode": {
    "name": "ipython",
    "version": 3
   },
   "file_extension": ".py",
   "mimetype": "text/x-python",
   "name": "python",
   "nbconvert_exporter": "python",
   "pygments_lexer": "ipython3",
   "version": "3.8.3"
  }
 },
 "nbformat": 4,
 "nbformat_minor": 4
}
